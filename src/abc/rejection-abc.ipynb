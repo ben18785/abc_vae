{
 "cells": [
  {
   "cell_type": "markdown",
   "metadata": {},
   "source": [
    "# Rejection ABC\n"
   ]
  },
  {
   "cell_type": "markdown",
   "metadata": {},
   "source": [
    "PINTS can be used to perform inference for stochastic forward models. Here, we perform inference on the [stochastic degradation model](../toy/model-stochastic-degradation.ipynb) using Approximate Bayesian Computation (ABC). This model has only a single unknown parameter -- the rate at which chemicals degrade. We use the \"rejection ABC\" method to estimate this unknown and provide a measure of uncertainty in it."
   ]
  },
  {
   "cell_type": "markdown",
   "metadata": {},
   "source": [
    "First, we load the stochastic degradation model and perform 10 simulations from it. The variation inbetween runs is due to the inherent stochasticity of this type of model."
   ]
  },
  {
   "cell_type": "code",
   "execution_count": 1,
   "metadata": {
    "collapsed": true
   },
   "outputs": [],
   "source": [
    "import pints\n",
    "import pints.toy as toy\n",
    "import pints.toy.stochastic\n",
    "import pints.plot\n",
    "import numpy as np\n",
    "import matplotlib.pyplot as plt"
   ]
  },
  {
   "cell_type": "code",
   "execution_count": 2,
   "metadata": {},
   "outputs": [
    {
     "data": {
      "image/png": "[encoded data removed]",
      "text/plain": [
       "<Figure size 432x288 with 1 Axes>"
      ]
     },
     "metadata": {
      "needs_background": "light"
     },
     "output_type": "display_data"
    }
   ],
   "source": [
    "np.random.seed(3)\n",
    "\n",
    "# Load a forward model\n",
    "model = toy.stochastic.DegradationModel()\n",
    "\n",
    "# Create some toy data\n",
    "real_parameters = model.suggested_parameters()\n",
    "times = np.linspace(0, 10, 100)\n",
    "\n",
    "for i in range(10):\n",
    "    values = model.simulate(real_parameters, times)\n",
    "\n",
    "    # Create an object with links to the model and time series\n",
    "    problem = pints.SingleOutputProblem(model, times, values)\n",
    "\n",
    "    # Create a uniform prior parameter\n",
    "    log_prior = pints.UniformLogPrior([0.0], [0.3])\n",
    "\n",
    "    # Set the error measure to be used to compare simulated to observed data\n",
    "    error_measure = pints.RootMeanSquaredError(problem)\n",
    "\n",
    "    plt.step(times, values)\n",
    "\n",
    "\n",
    "plt.xlabel('time')\n",
    "plt.ylabel('concentration (A(t))')\n",
    "plt.show()"
   ]
  },
  {
   "cell_type": "markdown",
   "metadata": {},
   "source": [
    "## Fit using Rejection ABC\n",
    "\n",
    "The rejection ABC method can be used to perform parameter inference for stochastic models, where the likelihood is intractable. In ABC methods, typically, a distance metric comparing the observed data and the simulated is used. Here, we use the root mean square error (RMSE), and we accept a parameter value if the $RMSE<1$."
   ]
  },
  {
   "cell_type": "code",
   "execution_count": 3,
   "metadata": {},
   "outputs": [
    {
     "name": "stdout",
     "output_type": "stream",
     "text": [
      "Running...\n",
      "Using Rejection ABC\n",
      "Running in sequential mode.\n",
      "Iter. Eval. Acceptance rate Time m:s\n",
      "1     198    0.00505050505    0:00.2\n",
      "2     213    0.00938967136    0:00.2\n",
      "3     271    0.0110701107     0:00.2\n",
      "20    1081   0.0185013876     0:00.8\n",
      "40    2389   0.0167434073     0:01.8\n",
      "60    3734   0.0160685592     0:02.8\n",
      "80    4774   0.0167574361     0:03.5\n",
      "100   6078   0.0164527805     0:04.5\n",
      "120   7352   0.0163220892     0:05.4\n",
      "140   8780   0.0159453303     0:06.5\n",
      "160   10169  0.0157340938     0:07.5\n",
      "180   11237  0.0160185103     0:08.3\n",
      "200   12453  0.0160603871     0:09.2\n",
      "220   14073  0.015632772      0:10.4\n",
      "240   15457  0.0155269457     0:11.4\n",
      "260   16782  0.0154927899     0:12.4\n",
      "280   18094  0.015474743      0:13.4\n",
      "300   19290  0.0155520995     0:14.3\n",
      "320   20742  0.0154276348     0:15.4\n",
      "340   21715  0.0156573797     0:16.1\n",
      "360   23213  0.0155085512     0:17.2\n",
      "380   24642  0.0154208262     0:18.2\n",
      "400   25951  0.0154136642     0:19.2\n",
      "420   27092  0.0155027314     0:20.0\n",
      "440   28605  0.0153819262     0:21.1\n",
      "460   29761  0.0154564699     0:22.0\n",
      "480   30963  0.0155023738     0:22.9\n",
      "500   32579  0.0153473096     0:24.1\n",
      "520   33669  0.0154444741     0:24.9\n",
      "540   34618  0.0155988214     0:25.6\n",
      "560   35662  0.0157029892     0:26.3\n",
      "580   37048  0.015655366      0:27.3\n",
      "600   38963  0.0153992249     0:28.7\n",
      "620   40448  0.0153283228     0:29.8\n",
      "640   42540  0.0150446638     0:31.4\n",
      "660   43768  0.0150795101     0:32.3\n",
      "680   45169  0.0150545728     0:33.3\n",
      "700   46368  0.0150966184     0:34.2\n",
      "720   47499  0.0151582139     0:35.0\n",
      "740   48691  0.0151978805     0:35.9\n",
      "760   49616  0.0153176395     0:36.6\n",
      "780   50795  0.0153558421     0:37.4\n",
      "800   51940  0.0154023874     0:38.3\n",
      "820   52849  0.0155159038     0:39.0\n",
      "840   53995  0.015556996      0:39.8\n",
      "860   54990  0.0156392071     0:40.5\n",
      "880   55919  0.0157370482     0:41.2\n",
      "900   57460  0.01566307       0:42.4\n",
      "920   58346  0.0157680047     0:43.0\n",
      "940   60000  0.0156666667     0:44.2\n",
      "960   60898  0.0157640645     0:44.9\n",
      "980   62112  0.0157779495     0:45.8\n",
      "1000  63098  0.0158483629     0:46.5\n",
      "Halting: target number of samples (1000) reached.\n",
      "Done\n"
     ]
    }
   ],
   "source": [
    "np.random.seed(1)\n",
    "abc = pints.ABCController(error_measure, log_prior)\n",
    "\n",
    "# set threshold\n",
    "abc.sampler().set_threshold(1)\n",
    "\n",
    "# set target number of samples\n",
    "abc.set_n_samples(1000)\n",
    "\n",
    "# log to screen\n",
    "abc.set_log_to_screen(True)\n",
    "\n",
    "print('Running...')\n",
    "samples  = abc.run()\n",
    "print('Done')"
   ]
  },
  {
   "cell_type": "markdown",
   "metadata": {},
   "source": [
    "We now plot the ABC posterior samples versus the actual value that was used to generate the data. This shows that, in this case, the parameter could be identified given the data."
   ]
  },
  {
   "cell_type": "code",
   "execution_count": 4,
   "metadata": {},
   "outputs": [
    {
     "data": {
      "image/png": "[encoded data removed]",
      "text/plain": [
       "<Figure size 432x288 with 1 Axes>"
      ]
     },
     "metadata": {
      "needs_background": "light"
     },
     "output_type": "display_data"
    }
   ],
   "source": [
    "plt.hist(samples[:,0], color=\"blue\", label=\"Samples\")\n",
    "plt.vlines(x=model.suggested_parameters(), linestyles='dashed', ymin=0, ymax=300, label=\"Actual value\", color=\"red\")\n",
    "plt.legend()\n",
    "plt.show()"
   ]
  }
 ],
 "metadata": {
  "interpreter": {
   "hash": "62b8c3045b77e73a8aab814fbf01ae024ab075fc3f7014742f3a4c5a8ac43e7b"
  },
  "kernelspec": {
   "display_name": "Python 3",
   "language": "python",
   "name": "python3"
  },
  "language_info": {
   "codemirror_mode": {
    "name": "ipython",
    "version": 3
   },
   "file_extension": ".py",
   "mimetype": "text/x-python",
   "name": "python",
   "nbconvert_exporter": "python",
   "pygments_lexer": "ipython3",
   "version": "3.8.0"
  }
 },
 "nbformat": 4,
 "nbformat_minor": 2
}
